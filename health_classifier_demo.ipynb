{
 "cells": [
  {
   "metadata": {},
   "cell_type": "markdown",
   "source": [
    "# Health Classifier Demo\n",
    "Using kagglehub to download the COUGHVID dataset\n"
   ]
  },
  {
   "metadata": {
    "ExecuteTime": {
     "end_time": "2025-04-17T08:43:12.535628Z",
     "start_time": "2025-04-17T08:43:09.517009Z"
    }
   },
   "cell_type": "code",
   "source": [
    "# Install kagglehub if not already installed\n",
    "try:\n",
    "    import kagglehub\n",
    "except ImportError:\n",
    "    !pip install kagglehub\n",
    "\n",
    "from health_classifier import HealthClassifier\n",
    "from coughvid_dataset import CoughvidDataset\n",
    "import os\n",
    "from scipy.io import wavfile\n",
    "import matplotlib.pyplot as plt\n",
    "import numpy as np\n",
    "\n",
    "# Initialize the classifier\n",
    "classifier = HealthClassifier()\n"
   ],
   "outputs": [],
   "execution_count": 10
  },
  {
   "metadata": {},
   "cell_type": "markdown",
   "source": "# Download and Prepare Dataset\n"
  },
  {
   "metadata": {
    "jupyter": {
     "is_executing": true
    },
    "ExecuteTime": {
     "start_time": "2025-04-17T08:43:16.222775Z"
    }
   },
   "cell_type": "code",
   "source": [
    "# Simple direct download test\n",
    "import kagglehub\n",
    "print(\"Testing direct kagglehub download...\")\n",
    "path = kagglehub.dataset_download(\"nasrulhakim86/coughvid-wav\")\n",
    "print(\"Path to dataset files:\", path)\n",
    "\n",
    "# Initialize dataset handler and prepare data\n",
    "dataset = CoughvidDataset(data_dir=\"coughvid_data\")\n",
    "\n",
    "# Download and prepare dataset (limiting to 200 samples for demonstration)\n",
    "healthy_files, sick_files = dataset.prepare_data_for_training(limit=200)\n",
    "\n",
    "print(f\"Number of healthy audio files: {len(healthy_files)}\")\n",
    "print(f\"Number of sick audio files: {len(sick_files)}\")\n",
    "\n",
    "# Visualize a sample\n",
    "if len(healthy_files) > 0:\n",
    "    sample_rate, audio = wavfile.read(healthy_files[0])\n",
    "    \n",
    "    plt.figure(figsize=(10, 4))\n",
    "    plt.plot(np.arange(len(audio)) / sample_rate, audio)\n",
    "    plt.title(\"Sample Healthy Cough Audio\")\n",
    "    plt.xlabel(\"Time (s)\")\n",
    "    plt.ylabel(\"Amplitude\")\n",
    "    plt.tight_layout()\n",
    "    plt.show()\n"
   ],
   "outputs": [
    {
     "name": "stdout",
     "output_type": "stream",
     "text": [
      "Testing direct kagglehub download...\n",
      "Downloading from https://www.kaggle.com/api/v1/datasets/download/nasrulhakim86/coughvid-wav?dataset_version_number=1...\n"
     ]
    },
    {
     "name": "stderr",
     "output_type": "stream",
     "text": [
      "  0%|          | 15.0M/8.61G [00:08<1:47:06, 1.44MB/s]"
     ]
    }
   ],
   "execution_count": null
  },
  {
   "metadata": {},
   "cell_type": "markdown",
   "source": ""
  },
  {
   "metadata": {},
   "cell_type": "code",
   "outputs": [],
   "execution_count": null,
   "source": [
    "# Train the classifier\n",
    "accuracy = classifier.train(\n",
    "    healthy_audio_files=healthy_files,\n",
    "    unhealthy_audio_files=sick_files,\n",
    "    save_path='coughvid_classifier.joblib'\n",
    ")\n",
    "\n",
    "print(f\"Training complete with accuracy: {accuracy:.4f}\")\n"
   ]
  },
  {
   "metadata": {},
   "cell_type": "markdown",
   "source": ""
  },
  {
   "metadata": {},
   "cell_type": "code",
   "outputs": [],
   "execution_count": null,
   "source": [
    "# Function to test on a random sample\n",
    "def test_random_sample(file_list, expected_label):\n",
    "    import random\n",
    "    \n",
    "    # Select a random file\n",
    "    test_file = random.choice(file_list)\n",
    "    \n",
    "    # Load audio\n",
    "    sample_rate, audio = wavfile.read(test_file)\n",
    "    \n",
    "    # Make prediction\n",
    "    result = classifier.predict(audio, sample_rate)\n",
    "    \n",
    "    # Print results\n",
    "    print(f\"File: {os.path.basename(test_file)}\")\n",
    "    print(f\"Expected: {'Sick' if expected_label == 1 else 'Healthy'}\")\n",
    "    print(f\"Prediction: {result['status']}\")\n",
    "    print(f\"Confidence: {result['confidence']:.2%}\")\n",
    "    \n",
    "    # Visualize audio\n",
    "    plt.figure(figsize=(10, 4))\n",
    "    plt.plot(np.arange(len(audio)) / sample_rate, audio)\n",
    "    plt.title(f\"Audio Sample - Predicted: {result['status']}\")\n",
    "    plt.xlabel(\"Time (s)\")\n",
    "    plt.ylabel(\"Amplitude\")\n",
    "    plt.tight_layout()\n",
    "    plt.show()\n",
    "    \n",
    "    return result['prediction'] == expected_label\n",
    "\n",
    "# Test on a few samples\n",
    "correct = 0\n",
    "total = 6\n",
    "for _ in range(3):\n",
    "    correct += test_random_sample(healthy_files, 0)\n",
    "    \n",
    "for _ in range(3):\n",
    "    correct += test_random_sample(sick_files, 1)\n",
    "\n",
    "print(f\"Accuracy on test samples: {correct/total:.2%}\")\n"
   ]
  },
  {
   "metadata": {},
   "cell_type": "markdown",
   "source": [
    "## Using a Pre-trained Model\n",
    "We can also load our saved model and use it directly.\n"
   ]
  },
  {
   "metadata": {},
   "cell_type": "code",
   "outputs": [],
   "execution_count": null,
   "source": [
    "# Initialize with our pre-trained model\n",
    "pretrained_classifier = HealthClassifier(model_path='coughvid_classifier.joblib')\n",
    "\n",
    "# Test on a sample\n",
    "if len(sick_files) > 0:\n",
    "    test_file = sick_files[0]\n",
    "    sample_rate, audio = wavfile.read(test_file)\n",
    "    \n",
    "    result = pretrained_classifier.predict(audio, sample_rate)\n",
    "    print(f\"Prediction using pre-trained model: {result['status']}\")\n",
    "    print(f\"Confidence: {result['confidence']:.2%}\")\n",
    "\n"
   ]
  }
 ],
 "metadata": {
  "kernelspec": {
   "display_name": "Python 3",
   "language": "python",
   "name": "python3"
  }
 },
 "nbformat": 4,
 "nbformat_minor": 4
}
