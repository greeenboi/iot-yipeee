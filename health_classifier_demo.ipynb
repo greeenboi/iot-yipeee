{
 "cells": [
  {
   "cell_type": "markdown",
   "metadata": {},
   "source": ""
  },
  {
   "cell_type": "code",
   "metadata": {
    "ExecuteTime": {
     "end_time": "2025-04-17T08:25:07.720730Z",
     "start_time": "2025-04-17T08:24:42.924473Z"
    }
   },
   "source": [
    "from health_classifier import HealthClassifier\n",
    "import os\n",
    "from scipy.io import wavfile\n",
    "\n",
    "# Initialize the classifier\n",
    "classifier = HealthClassifier()"
   ],
   "outputs": [
    {
     "name": "stderr",
     "output_type": "stream",
     "text": [
      "C:\\Users\\suvan\\PycharmProjects\\PythonProject1\\.venv\\lib\\site-packages\\tqdm\\auto.py:21: TqdmWarning: IProgress not found. Please update jupyter and ipywidgets. See https://ipywidgets.readthedocs.io/en/stable/user_install.html\n",
      "  from .autonotebook import tqdm as notebook_tqdm\n"
     ]
    }
   ],
   "execution_count": 1
  },
  {
   "cell_type": "markdown",
   "metadata": {},
   "source": ""
  },
  {
   "cell_type": "code",
   "execution_count": null,
   "metadata": {},
   "source": [
    "# Define paths to your training data\n",
    "healthy_folder = \"path/to/healthy/audio/files\"\n",
    "unhealthy_folder = \"path/to/unhealthy/audio/files\"\n",
    "\n",
    "# Get file lists\n",
    "healthy_files = [os.path.join(healthy_folder, f) for f in os.listdir(healthy_folder) if f.endswith('.wav')]\n",
    "unhealthy_files = [os.path.join(unhealthy_folder, f) for f in os.listdir(unhealthy_folder) if f.endswith('.wav')]\n",
    "\n",
    "# Train the classifier\n",
    "accuracy = classifier.train(\n",
    "    healthy_audio_files=healthy_files,\n",
    "    unhealthy_audio_files=unhealthy_files,\n",
    "    save_path='trained_classifier.joblib'\n",
    ")"
   ],
   "outputs": []
  },
  {
   "cell_type": "markdown",
   "metadata": {},
   "source": ""
  },
  {
   "cell_type": "code",
   "execution_count": null,
   "metadata": {},
   "source": [
    "# Load and predict on a new audio file\n",
    "test_file = \"path/to/test/audio.wav\"\n",
    "sample_rate, audio = wavfile.read(test_file)\n",
    "\n",
    "# Make prediction\n",
    "result = classifier.predict(audio, sample_rate)\n",
    "\n",
    "print(f\"Prediction: {result['status']}\")\n",
    "print(f\"Confidence: {result['confidence']:.2%}\")"
   ],
   "outputs": []
  },
  {
   "cell_type": "markdown",
   "metadata": {},
   "source": ""
  },
  {
   "cell_type": "code",
   "execution_count": null,
   "metadata": {},
   "source": [
    "# Initialize with a pre-trained model\n",
    "pretrained_classifier = HealthClassifier(model_path='trained_classifier.joblib')\n",
    "\n",
    "# Now you can use it directly for predictions\n",
    "sample_rate, audio = wavfile.read(test_file)\n",
    "result = pretrained_classifier.predict(audio, sample_rate)\n",
    "print(f\"Prediction using pre-trained model: {result['status']}\")"
   ],
   "outputs": []
  }
 ],
 "metadata": {
  "kernelspec": {
   "display_name": "Python 3",
   "language": "python",
   "name": "python3"
  }
 },
 "nbformat": 4,
 "nbformat_minor": 4
}
