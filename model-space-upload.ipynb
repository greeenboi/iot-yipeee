{
 "cells": [
  {
   "cell_type": "code",
   "id": "initial_id",
   "metadata": {
    "collapsed": true,
    "ExecuteTime": {
     "end_time": "2025-04-21T07:17:27.764878Z",
     "start_time": "2025-04-21T07:17:25.298001Z"
    }
   },
   "source": "!pip install huggingface_hub gradio",
   "outputs": [
    {
     "name": "stdout",
     "output_type": "stream",
     "text": [
      "Requirement already satisfied: huggingface_hub in c:\\users\\suvan\\pycharmprojects\\pythonproject1\\.venv\\lib\\site-packages (0.30.2)\n",
      "Requirement already satisfied: gradio in c:\\users\\suvan\\pycharmprojects\\pythonproject1\\.venv\\lib\\site-packages (5.25.2)\n",
      "Requirement already satisfied: filelock in c:\\users\\suvan\\pycharmprojects\\pythonproject1\\.venv\\lib\\site-packages (from huggingface_hub) (3.18.0)\n",
      "Requirement already satisfied: fsspec>=2023.5.0 in c:\\users\\suvan\\pycharmprojects\\pythonproject1\\.venv\\lib\\site-packages (from huggingface_hub) (2025.3.2)\n",
      "Requirement already satisfied: packaging>=20.9 in c:\\users\\suvan\\pycharmprojects\\pythonproject1\\.venv\\lib\\site-packages (from huggingface_hub) (24.2)\n",
      "Requirement already satisfied: pyyaml>=5.1 in c:\\users\\suvan\\pycharmprojects\\pythonproject1\\.venv\\lib\\site-packages (from huggingface_hub) (6.0.2)\n",
      "Requirement already satisfied: requests in c:\\users\\suvan\\pycharmprojects\\pythonproject1\\.venv\\lib\\site-packages (from huggingface_hub) (2.32.3)\n",
      "Requirement already satisfied: tqdm>=4.42.1 in c:\\users\\suvan\\pycharmprojects\\pythonproject1\\.venv\\lib\\site-packages (from huggingface_hub) (4.67.1)\n",
      "Requirement already satisfied: typing-extensions>=3.7.4.3 in c:\\users\\suvan\\pycharmprojects\\pythonproject1\\.venv\\lib\\site-packages (from huggingface_hub) (4.13.2)\n",
      "Requirement already satisfied: aiofiles<25.0,>=22.0 in c:\\users\\suvan\\pycharmprojects\\pythonproject1\\.venv\\lib\\site-packages (from gradio) (24.1.0)\n",
      "Requirement already satisfied: anyio<5.0,>=3.0 in c:\\users\\suvan\\pycharmprojects\\pythonproject1\\.venv\\lib\\site-packages (from gradio) (4.9.0)\n",
      "Requirement already satisfied: fastapi<1.0,>=0.115.2 in c:\\users\\suvan\\pycharmprojects\\pythonproject1\\.venv\\lib\\site-packages (from gradio) (0.115.12)\n",
      "Requirement already satisfied: ffmpy in c:\\users\\suvan\\pycharmprojects\\pythonproject1\\.venv\\lib\\site-packages (from gradio) (0.5.0)\n",
      "Requirement already satisfied: gradio-client==1.8.0 in c:\\users\\suvan\\pycharmprojects\\pythonproject1\\.venv\\lib\\site-packages (from gradio) (1.8.0)\n",
      "Requirement already satisfied: groovy~=0.1 in c:\\users\\suvan\\pycharmprojects\\pythonproject1\\.venv\\lib\\site-packages (from gradio) (0.1.2)\n",
      "Requirement already satisfied: httpx>=0.24.1 in c:\\users\\suvan\\pycharmprojects\\pythonproject1\\.venv\\lib\\site-packages (from gradio) (0.28.1)\n",
      "Requirement already satisfied: jinja2<4.0 in c:\\users\\suvan\\pycharmprojects\\pythonproject1\\.venv\\lib\\site-packages (from gradio) (3.1.6)\n",
      "Requirement already satisfied: markupsafe<4.0,>=2.0 in c:\\users\\suvan\\pycharmprojects\\pythonproject1\\.venv\\lib\\site-packages (from gradio) (3.0.2)\n",
      "Requirement already satisfied: numpy<3.0,>=1.0 in c:\\users\\suvan\\pycharmprojects\\pythonproject1\\.venv\\lib\\site-packages (from gradio) (1.26.4)\n",
      "Requirement already satisfied: orjson~=3.0 in c:\\users\\suvan\\pycharmprojects\\pythonproject1\\.venv\\lib\\site-packages (from gradio) (3.10.16)\n",
      "Requirement already satisfied: pandas<3.0,>=1.0 in c:\\users\\suvan\\pycharmprojects\\pythonproject1\\.venv\\lib\\site-packages (from gradio) (2.1.4)\n",
      "Requirement already satisfied: pillow<12.0,>=8.0 in c:\\users\\suvan\\pycharmprojects\\pythonproject1\\.venv\\lib\\site-packages (from gradio) (11.2.1)\n",
      "Requirement already satisfied: pydantic<2.12,>=2.0 in c:\\users\\suvan\\pycharmprojects\\pythonproject1\\.venv\\lib\\site-packages (from gradio) (2.11.3)\n",
      "Requirement already satisfied: pydub in c:\\users\\suvan\\pycharmprojects\\pythonproject1\\.venv\\lib\\site-packages (from gradio) (0.25.1)\n",
      "Requirement already satisfied: python-multipart>=0.0.18 in c:\\users\\suvan\\pycharmprojects\\pythonproject1\\.venv\\lib\\site-packages (from gradio) (0.0.20)\n",
      "Requirement already satisfied: ruff>=0.9.3 in c:\\users\\suvan\\pycharmprojects\\pythonproject1\\.venv\\lib\\site-packages (from gradio) (0.11.6)\n",
      "Requirement already satisfied: safehttpx<0.2.0,>=0.1.6 in c:\\users\\suvan\\pycharmprojects\\pythonproject1\\.venv\\lib\\site-packages (from gradio) (0.1.6)\n",
      "Requirement already satisfied: semantic-version~=2.0 in c:\\users\\suvan\\pycharmprojects\\pythonproject1\\.venv\\lib\\site-packages (from gradio) (2.10.0)\n",
      "Requirement already satisfied: starlette<1.0,>=0.40.0 in c:\\users\\suvan\\pycharmprojects\\pythonproject1\\.venv\\lib\\site-packages (from gradio) (0.46.2)\n",
      "Requirement already satisfied: tomlkit<0.14.0,>=0.12.0 in c:\\users\\suvan\\pycharmprojects\\pythonproject1\\.venv\\lib\\site-packages (from gradio) (0.13.2)\n",
      "Requirement already satisfied: typer<1.0,>=0.12 in c:\\users\\suvan\\pycharmprojects\\pythonproject1\\.venv\\lib\\site-packages (from gradio) (0.15.2)\n",
      "Requirement already satisfied: uvicorn>=0.14.0 in c:\\users\\suvan\\pycharmprojects\\pythonproject1\\.venv\\lib\\site-packages (from gradio) (0.34.2)\n",
      "Requirement already satisfied: websockets<16.0,>=10.0 in c:\\users\\suvan\\pycharmprojects\\pythonproject1\\.venv\\lib\\site-packages (from gradio-client==1.8.0->gradio) (15.0.1)\n",
      "Requirement already satisfied: exceptiongroup>=1.0.2 in c:\\users\\suvan\\pycharmprojects\\pythonproject1\\.venv\\lib\\site-packages (from anyio<5.0,>=3.0->gradio) (1.2.2)\n",
      "Requirement already satisfied: idna>=2.8 in c:\\users\\suvan\\pycharmprojects\\pythonproject1\\.venv\\lib\\site-packages (from anyio<5.0,>=3.0->gradio) (3.10)\n",
      "Requirement already satisfied: sniffio>=1.1 in c:\\users\\suvan\\pycharmprojects\\pythonproject1\\.venv\\lib\\site-packages (from anyio<5.0,>=3.0->gradio) (1.3.1)\n",
      "Requirement already satisfied: certifi in c:\\users\\suvan\\pycharmprojects\\pythonproject1\\.venv\\lib\\site-packages (from httpx>=0.24.1->gradio) (2025.1.31)\n",
      "Requirement already satisfied: httpcore==1.* in c:\\users\\suvan\\pycharmprojects\\pythonproject1\\.venv\\lib\\site-packages (from httpx>=0.24.1->gradio) (1.0.8)\n",
      "Requirement already satisfied: h11<0.15,>=0.13 in c:\\users\\suvan\\pycharmprojects\\pythonproject1\\.venv\\lib\\site-packages (from httpcore==1.*->httpx>=0.24.1->gradio) (0.14.0)\n",
      "Requirement already satisfied: python-dateutil>=2.8.2 in c:\\users\\suvan\\pycharmprojects\\pythonproject1\\.venv\\lib\\site-packages (from pandas<3.0,>=1.0->gradio) (2.9.0.post0)\n",
      "Requirement already satisfied: pytz>=2020.1 in c:\\users\\suvan\\pycharmprojects\\pythonproject1\\.venv\\lib\\site-packages (from pandas<3.0,>=1.0->gradio) (2025.2)\n",
      "Requirement already satisfied: tzdata>=2022.1 in c:\\users\\suvan\\pycharmprojects\\pythonproject1\\.venv\\lib\\site-packages (from pandas<3.0,>=1.0->gradio) (2025.2)\n",
      "Requirement already satisfied: annotated-types>=0.6.0 in c:\\users\\suvan\\pycharmprojects\\pythonproject1\\.venv\\lib\\site-packages (from pydantic<2.12,>=2.0->gradio) (0.7.0)\n",
      "Requirement already satisfied: pydantic-core==2.33.1 in c:\\users\\suvan\\pycharmprojects\\pythonproject1\\.venv\\lib\\site-packages (from pydantic<2.12,>=2.0->gradio) (2.33.1)\n",
      "Requirement already satisfied: typing-inspection>=0.4.0 in c:\\users\\suvan\\pycharmprojects\\pythonproject1\\.venv\\lib\\site-packages (from pydantic<2.12,>=2.0->gradio) (0.4.0)\n",
      "Requirement already satisfied: colorama in c:\\users\\suvan\\pycharmprojects\\pythonproject1\\.venv\\lib\\site-packages (from tqdm>=4.42.1->huggingface_hub) (0.4.6)\n",
      "Requirement already satisfied: click>=8.0.0 in c:\\users\\suvan\\pycharmprojects\\pythonproject1\\.venv\\lib\\site-packages (from typer<1.0,>=0.12->gradio) (8.1.8)\n",
      "Requirement already satisfied: shellingham>=1.3.0 in c:\\users\\suvan\\pycharmprojects\\pythonproject1\\.venv\\lib\\site-packages (from typer<1.0,>=0.12->gradio) (1.5.4)\n",
      "Requirement already satisfied: rich>=10.11.0 in c:\\users\\suvan\\pycharmprojects\\pythonproject1\\.venv\\lib\\site-packages (from typer<1.0,>=0.12->gradio) (14.0.0)\n",
      "Requirement already satisfied: charset-normalizer<4,>=2 in c:\\users\\suvan\\pycharmprojects\\pythonproject1\\.venv\\lib\\site-packages (from requests->huggingface_hub) (3.4.1)\n",
      "Requirement already satisfied: urllib3<3,>=1.21.1 in c:\\users\\suvan\\pycharmprojects\\pythonproject1\\.venv\\lib\\site-packages (from requests->huggingface_hub) (2.4.0)\n",
      "Requirement already satisfied: six>=1.5 in c:\\users\\suvan\\pycharmprojects\\pythonproject1\\.venv\\lib\\site-packages (from python-dateutil>=2.8.2->pandas<3.0,>=1.0->gradio) (1.17.0)\n",
      "Requirement already satisfied: markdown-it-py>=2.2.0 in c:\\users\\suvan\\pycharmprojects\\pythonproject1\\.venv\\lib\\site-packages (from rich>=10.11.0->typer<1.0,>=0.12->gradio) (3.0.0)\n",
      "Requirement already satisfied: pygments<3.0.0,>=2.13.0 in c:\\users\\suvan\\pycharmprojects\\pythonproject1\\.venv\\lib\\site-packages (from rich>=10.11.0->typer<1.0,>=0.12->gradio) (2.19.1)\n",
      "Requirement already satisfied: mdurl~=0.1 in c:\\users\\suvan\\pycharmprojects\\pythonproject1\\.venv\\lib\\site-packages (from markdown-it-py>=2.2.0->rich>=10.11.0->typer<1.0,>=0.12->gradio) (0.1.2)\n"
     ]
    }
   ],
   "execution_count": 2
  },
  {
   "metadata": {
    "ExecuteTime": {
     "end_time": "2025-04-21T07:17:30.418037Z",
     "start_time": "2025-04-21T07:17:30.394012Z"
    }
   },
   "cell_type": "code",
   "source": [
    "import os\n",
    "import shutil\n",
    "import tempfile\n",
    "from huggingface_hub import HfApi, create_repo, upload_file, upload_folder, notebook_login\n"
   ],
   "id": "f9d6b265a496cf56",
   "outputs": [],
   "execution_count": 4
  },
  {
   "metadata": {
    "ExecuteTime": {
     "end_time": "2025-04-21T07:18:47.371569Z",
     "start_time": "2025-04-21T07:18:47.357074Z"
    }
   },
   "cell_type": "code",
   "source": "notebook_login()",
   "id": "7726ba5e60a8e805",
   "outputs": [
    {
     "data": {
      "text/plain": [
       "VBox(children=(HTML(value='<center> <img\\nsrc=https://huggingface.co/front/assets/huggingface_logo-noborder.sv…"
      ],
      "application/vnd.jupyter.widget-view+json": {
       "version_major": 2,
       "version_minor": 0,
       "model_id": "ff49aab1ec3d424995ca7bb074e902ef"
      }
     },
     "metadata": {},
     "output_type": "display_data"
    }
   ],
   "execution_count": 7
  },
  {
   "metadata": {
    "ExecuteTime": {
     "end_time": "2025-04-21T07:22:00.642419Z",
     "start_time": "2025-04-21T07:22:00.626780Z"
    }
   },
   "cell_type": "code",
   "source": [
    "HF_USERNAME = \"greenarcade\"  # Replace with your username\n",
    "SPACE_NAME = \"cough-health-analyzer\""
   ],
   "id": "876064af5034437a",
   "outputs": [],
   "execution_count": 16
  },
  {
   "metadata": {
    "ExecuteTime": {
     "end_time": "2025-04-21T07:22:03.199507Z",
     "start_time": "2025-04-21T07:22:03.183716Z"
    }
   },
   "cell_type": "code",
   "source": [
    "# Full space name\n",
    "SPACE_ID = f\"{HF_USERNAME}/{SPACE_NAME}\"\n",
    "\n",
    "# Initialize Hugging Face API\n",
    "api = HfApi()"
   ],
   "id": "4c79314b6bcb9c12",
   "outputs": [],
   "execution_count": 17
  },
  {
   "metadata": {
    "ExecuteTime": {
     "end_time": "2025-04-21T07:22:06.885936Z",
     "start_time": "2025-04-21T07:22:06.877164Z"
    }
   },
   "cell_type": "code",
   "source": [
    "def create_huggingface_space():\n",
    "    try:\n",
    "        print(f\"Creating new Hugging Face Space: {SPACE_ID}\")\n",
    "        create_repo(\n",
    "            repo_id=SPACE_ID,\n",
    "            repo_type=\"space\",\n",
    "            space_sdk=\"gradio\",\n",
    "            private=False\n",
    "        )\n",
    "        print(f\"✅ Space created successfully: https://huggingface.co/spaces/{SPACE_ID}\")\n",
    "        return True\n",
    "    except Exception as e:\n",
    "        print(f\"❌ Error creating space: {e}\")\n",
    "        return False"
   ],
   "id": "afe44c2e591b56a7",
   "outputs": [],
   "execution_count": 18
  },
  {
   "metadata": {
    "ExecuteTime": {
     "end_time": "2025-04-21T07:22:07.383692Z",
     "start_time": "2025-04-21T07:22:07.370090Z"
    }
   },
   "cell_type": "code",
   "source": [
    "def prepare_files_for_upload():\n",
    "    # Create a temporary directory to organize files\n",
    "    temp_dir = tempfile.mkdtemp()\n",
    "    print(f\"Created temporary directory: {temp_dir}\")\n",
    "\n",
    "    # List of files to upload\n",
    "    files_to_upload = [\n",
    "        {\"source\": \"app.py\", \"destination\": \"app.py\"},\n",
    "        {\"source\": \"cough_classification_model.pkl\", \"destination\": \"cough_classification_model.pkl\"},\n",
    "        {\"source\": \"README.md\", \"destination\": \"README.md\"},\n",
    "        {\"source\": \"requirements-gradio.txt\", \"destination\": \"requirements.txt\"}  # Rename to requirements.txt for HF\n",
    "    ]\n",
    "\n",
    "    # Copy files to temp directory\n",
    "    for file_info in files_to_upload:\n",
    "        source = file_info[\"source\"]\n",
    "        destination = os.path.join(temp_dir, file_info[\"destination\"])\n",
    "\n",
    "        try:\n",
    "            shutil.copy2(source, destination)\n",
    "            print(f\"✅ Copied {source} to {destination}\")\n",
    "        except Exception as e:\n",
    "            print(f\"❌ Error copying {source}: {e}\")\n",
    "\n",
    "    return temp_dir\n",
    "\n",
    "# Function to upload files to Hugging Face Space\n",
    "def upload_files_to_space(temp_dir):\n",
    "    try:\n",
    "        print(f\"Uploading files to {SPACE_ID}...\")\n",
    "        api.upload_folder(\n",
    "            folder_path=temp_dir,\n",
    "            repo_id=SPACE_ID,\n",
    "            repo_type=\"space\",\n",
    "            commit_message=\"Upload Cough Health Analyzer application files\"\n",
    "        )\n",
    "        print(f\"✅ Files uploaded successfully to https://huggingface.co/spaces/{SPACE_ID}\")\n",
    "        return True\n",
    "    except Exception as e:\n",
    "        print(f\"❌ Error uploading files: {e}\")\n",
    "        return False"
   ],
   "id": "9850d06cde65d1ba",
   "outputs": [],
   "execution_count": 19
  },
  {
   "metadata": {
    "ExecuteTime": {
     "end_time": "2025-04-21T07:22:09.349236Z",
     "start_time": "2025-04-21T07:22:09.337410Z"
    }
   },
   "cell_type": "code",
   "source": [
    "def deploy_to_huggingface():\n",
    "    # 1. Create the Hugging Face Space\n",
    "    if not create_huggingface_space():\n",
    "        print(\"Stopping deployment due to error in space creation.\")\n",
    "        return\n",
    "\n",
    "    # 2. Prepare files for upload\n",
    "    temp_dir = prepare_files_for_upload()\n",
    "\n",
    "    # 3. Upload files to the space\n",
    "    upload_success = upload_files_to_space(temp_dir)\n",
    "\n",
    "    # 4. Clean up temporary directory\n",
    "    try:\n",
    "        shutil.rmtree(temp_dir)\n",
    "        print(f\"✅ Cleaned up temporary directory\")\n",
    "    except Exception as e:\n",
    "        print(f\"❌ Error cleaning up temporary directory: {e}\")\n",
    "\n",
    "    # 5. Final message\n",
    "    if upload_success:\n",
    "        print(\"\\n\" + \"=\"*50)\n",
    "        print(f\"🎉 Deployment complete! Your Cough Health Analyzer is now available at:\")\n",
    "        print(f\"https://huggingface.co/spaces/{SPACE_ID}\")\n",
    "        print(\"\\nIt may take a few minutes for the space to build and become available.\")\n",
    "        print(\"=\"*50)\n",
    "    else:\n",
    "        print(\"\\n\" + \"=\"*50)\n",
    "        print(\"❌ Deployment encountered errors. Please check the logs above.\")\n",
    "        print(\"=\"*50)"
   ],
   "id": "49603f8a2bc4e97",
   "outputs": [],
   "execution_count": 20
  },
  {
   "metadata": {
    "ExecuteTime": {
     "end_time": "2025-04-21T07:22:17.396510Z",
     "start_time": "2025-04-21T07:22:10.037537Z"
    }
   },
   "cell_type": "code",
   "source": "deploy_to_huggingface()",
   "id": "ce96bb6da5dfe0b7",
   "outputs": [
    {
     "name": "stdout",
     "output_type": "stream",
     "text": [
      "Creating new Hugging Face Space: greenarcade/cough-health-analyzer\n",
      "✅ Space created successfully: https://huggingface.co/spaces/greenarcade/cough-health-analyzer\n",
      "Created temporary directory: C:\\Users\\suvan\\AppData\\Local\\Temp\\tmp_4lvrmuy\n",
      "✅ Copied app.py to C:\\Users\\suvan\\AppData\\Local\\Temp\\tmp_4lvrmuy\\app.py\n",
      "✅ Copied cough_classification_model.pkl to C:\\Users\\suvan\\AppData\\Local\\Temp\\tmp_4lvrmuy\\cough_classification_model.pkl\n",
      "✅ Copied README.md to C:\\Users\\suvan\\AppData\\Local\\Temp\\tmp_4lvrmuy\\README.md\n",
      "✅ Copied requirements-gradio.txt to C:\\Users\\suvan\\AppData\\Local\\Temp\\tmp_4lvrmuy\\requirements.txt\n",
      "Uploading files to greenarcade/cough-health-analyzer...\n"
     ]
    },
    {
     "name": "stderr",
     "output_type": "stream",
     "text": [
      "C:\\Users\\suvan\\PycharmProjects\\PythonProject1\\.venv\\lib\\site-packages\\huggingface_hub\\hf_api.py:9561: UserWarning: Warnings while validating metadata in README.md:\n",
      "- empty or missing yaml metadata in repo card\n",
      "  warnings.warn(f\"Warnings while validating metadata in README.md:\\n{message}\")\n"
     ]
    },
    {
     "data": {
      "text/plain": [
       "cough_classification_model.pkl:   0%|          | 0.00/991k [00:00<?, ?B/s]"
      ],
      "application/vnd.jupyter.widget-view+json": {
       "version_major": 2,
       "version_minor": 0,
       "model_id": "6cc2e9ac668c4acba29bbff2c7e53987"
      }
     },
     "metadata": {},
     "output_type": "display_data"
    },
    {
     "name": "stdout",
     "output_type": "stream",
     "text": [
      "✅ Files uploaded successfully to https://huggingface.co/spaces/greenarcade/cough-health-analyzer\n",
      "✅ Cleaned up temporary directory\n",
      "\n",
      "==================================================\n",
      "🎉 Deployment complete! Your Cough Health Analyzer is now available at:\n",
      "https://huggingface.co/spaces/greenarcade/cough-health-analyzer\n",
      "\n",
      "It may take a few minutes for the space to build and become available.\n",
      "==================================================\n"
     ]
    }
   ],
   "execution_count": 21
  },
  {
   "metadata": {},
   "cell_type": "code",
   "outputs": [],
   "execution_count": null,
   "source": "",
   "id": "af3ec77bf4acd482"
  }
 ],
 "metadata": {
  "kernelspec": {
   "display_name": "Python 3",
   "language": "python",
   "name": "python3"
  },
  "language_info": {
   "codemirror_mode": {
    "name": "ipython",
    "version": 2
   },
   "file_extension": ".py",
   "mimetype": "text/x-python",
   "name": "python",
   "nbconvert_exporter": "python",
   "pygments_lexer": "ipython2",
   "version": "2.7.6"
  }
 },
 "nbformat": 4,
 "nbformat_minor": 5
}
